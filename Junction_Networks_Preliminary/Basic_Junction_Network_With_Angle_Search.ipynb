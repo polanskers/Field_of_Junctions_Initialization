{
 "cells": [
  {
   "cell_type": "markdown",
   "id": "ac3cbab3",
   "metadata": {},
   "source": [
    "# Basic_Junction_Network_With_Fixed_Angles\n",
    "\n",
    "### Description:\n",
    "\n",
    "Incomplete code that aims to learn junction parameters given junction images.\n",
    "\n",
    "While incomplete, contains some useful code snippets and visualizations."
   ]
  },
  {
   "cell_type": "code",
   "execution_count": 1,
   "id": "d5f2c9ab",
   "metadata": {},
   "outputs": [],
   "source": [
    "# Load modules\n",
    "\n",
    "import pickle\n",
    "import torch\n",
    "import torch.nn.functional as F\n",
    "import torch.nn as nn\n",
    "import numpy as np\n",
    "import matplotlib.pyplot as plt\n",
    "from torchvision import transforms\n",
    "import sys\n",
    "import os\n",
    "sys.path.append('..')\n",
    "from types import SimpleNamespace\n",
    "from field_of_junctions import FieldOfJunctions\n",
    "\n",
    "from torchsummary import summary"
   ]
  },
  {
   "cell_type": "code",
   "execution_count": 8,
   "id": "acd20260",
   "metadata": {},
   "outputs": [],
   "source": [
    "opts = SimpleNamespace()\n",
    "\n",
    "img_size = 24\n",
    "img = np.zeros((img_size,img_size,1))\n",
    "\n",
    "opts.R                        = img_size\n",
    "opts.patch_size               = 8\n",
    "opts.stride                   = 1\n",
    "opts.eta                      = 0.01\n",
    "opts.delta                    = 0.02\n",
    "opts.lr_angles                = 0.003\n",
    "opts.lr_x0y0                  = 0.03\n",
    "opts.lambda_boundary_final    = 0.5\n",
    "opts.lambda_color_final       = 0.1\n",
    "opts.nvals                    = 31\n",
    "opts.num_initialization_iters = 30\n",
    "opts.num_refinement_iters     = 1000\n",
    "opts.greedy_step_every_iters  = 50\n",
    "opts.parallel_mode            = True\n",
    "\n",
    "dev = torch.device('cuda' if torch.cuda.is_available() else 'cpu')\n",
    "\n",
    "foj = FieldOfJunctions(img, dev, opts)"
   ]
  },
  {
   "cell_type": "code",
   "execution_count": 9,
   "id": "06a49742",
   "metadata": {},
   "outputs": [],
   "source": [
    "class JunctionDataset(torch.utils.data.Dataset):\n",
    "    \"\"\" Dataset with support of transforms.\n",
    "    \"\"\"\n",
    "\n",
    "    def __init__(self, images, params, boundaries, wedges, transform=None):\n",
    "        self.images = images\n",
    "        self.params = params\n",
    "        self.boundaries = boundaries\n",
    "        self.wedges = wedges\n",
    "        self.transform = transform\n",
    "\n",
    "    def __getitem__(self, index):\n",
    "        \n",
    "        image = self.images[index].unsqueeze(0)\n",
    "        wedge = self.wedges[index]\n",
    "\n",
    "        if self.transform:\n",
    "            image = self.transform(image)\n",
    "            \n",
    "        param = self.params[index].squeeze()\n",
    "        boundary = self.boundaries[index]\n",
    "        \n",
    "        return image, param, boundary, wedge\n",
    "\n",
    "    def __len__(self):\n",
    "        return len(self.images)"
   ]
  },
  {
   "cell_type": "code",
   "execution_count": 14,
   "id": "81754703",
   "metadata": {},
   "outputs": [
    {
     "name": "stdout",
     "output_type": "stream",
     "text": [
      "torch.Size([1, 24, 24])\n"
     ]
    },
    {
     "data": {
      "image/png": "[encoded data removed]",
      "text/plain": [
       "<Figure size 432x288 with 1 Axes>"
      ]
     },
     "metadata": {
      "needs_background": "light"
     },
     "output_type": "display_data"
    }
   ],
   "source": [
    "# Make a boundary image with the junction within 10% of the center\n",
    "\n",
    "def make_random_junction_set(num_samples):\n",
    "    # Bounds of image: [-1,1],[-1,1]\n",
    "    # Randomly generate junction location from [-3,3],[3,3] and 3 angles between [0,2*pi]\n",
    "\n",
    "    jangles = 2*np.pi*torch.rand(num_samples,3).to(dev)\n",
    "    jcenter = (.2*torch.rand(num_samples,2) - .2).to(dev) #torch.zeros(num_samples,2).to(dev)\n",
    "    params = torch.cat([jangles,jcenter],dim=1).unsqueeze(2).unsqueeze(3)\n",
    "    \n",
    "    dists = foj.params2dists(params).cpu().detach()\n",
    "    wedges = foj.dists2indicators(dists).squeeze(-1).squeeze(-1).cpu().detach()\n",
    "\n",
    "    params = params.cpu().detach()\n",
    "    \n",
    "    return dists,wedges,params\n",
    "\n",
    "dists,wedges,params = make_random_junction_set(1)\n",
    "boundaries = foj.dists2boundaries(dists).squeeze(1).squeeze(3).squeeze(3)\n",
    "\n",
    "plt.figure()\n",
    "plt.imshow(boundaries[0])\n",
    "\n",
    "print(boundaries.shape)\n",
    "\n",
    "img = boundaries\n",
    "C, H, W = img.shape"
   ]
  },
  {
   "cell_type": "code",
   "execution_count": 11,
   "id": "da11fd96",
   "metadata": {},
   "outputs": [],
   "source": [
    "# Load data:\n",
    "\n",
    "data_folder = 'foj_data/grayscale_junctions/'\n",
    "\n",
    "with open(data_folder + 'junction_data_24_20000_grey_multicolor_noiseless_centered.pkl','rb') as f:\n",
    "    loaded_data = pickle.load(f)\n"
   ]
  },
  {
   "cell_type": "code",
   "execution_count": 13,
   "id": "5bea32b2",
   "metadata": {},
   "outputs": [
    {
     "name": "stdout",
     "output_type": "stream",
     "text": [
      "20000\n"
     ]
    }
   ],
   "source": [
    "###-------\n",
    "\n",
    "wedges_grey = loaded_data['wedges_grey']\n",
    "params = loaded_data['params']\n",
    "boundaries = loaded_data['boundaries']\n",
    "\n",
    "# Sort the angles from smallest to largest\n",
    "temp,_ = torch.sort(params[:,:3],axis=1)\n",
    "params[:,:3] = temp\n",
    "\n",
    "# Start by creating wedges as input to the dataset function\n",
    "params = params.to(dev)\n",
    "dists = foj.params2dists(params)#.cpu().detach()\n",
    "wedges = foj.dists2indicators(dists).squeeze()#.cpu().detach()\n",
    "\n",
    "\n",
    "trainTransform  = transforms.Compose([ transforms.Normalize((0.5), (0.5)) ])\n",
    "\n",
    "junction_data = JunctionDataset(wedges_grey, params, boundaries, wedges, transform=trainTransform)\n",
    "data_size = len(junction_data)\n",
    "\n",
    "print(data_size)\n",
    "\n",
    "train_proportion = .85\n",
    "# Split dataset into training and testing\n",
    "train_dataset, test_dataset = torch.utils.data.random_split(junction_data, [int(data_size*train_proportion), int(data_size*(1-train_proportion))], generator=torch.Generator().manual_seed(42))\n",
    "\n",
    "# Create loaders for the training and testing data\n",
    "train_loader = torch.utils.data.DataLoader(train_dataset, batch_size=100, shuffle=True)\n",
    "test_loader = torch.utils.data.DataLoader(test_dataset, batch_size=100, shuffle=False) #len(test_dataset)\n"
   ]
  },
  {
   "cell_type": "code",
   "execution_count": 16,
   "id": "092552b5",
   "metadata": {},
   "outputs": [
    {
     "name": "stdout",
     "output_type": "stream",
     "text": [
      "torch.Size([10, 1, 3, 58, 58])\n",
      "torch.Size([1, 3, 3, 58, 58])\n",
      "torch.Size([10, 1, 3, 58, 58])\n"
     ]
    }
   ],
   "source": [
    "# Make Transformation matrix L\n",
    "\n",
    "# Each patch needs to be transformed by a different 3 x 3 transformation\n",
    "# Assuming zero-padding, the output of the network will 64 x 64 x 3\n",
    "# The transformation will be 64 x 64 x 3 x 3\n",
    "# Hence, we need to add an additional input to the dimension to make it: 64 x 64 x 1 x 3\n",
    "\n",
    "num_convs = 3 \n",
    "\n",
    "Wn,Hn = 64-num_convs*2,64-num_convs*2\n",
    "\n",
    "# First define the center of the global coordinate system\n",
    "xa,ya = torch.zeros((Wn,Hn),device=dev),torch.zeros((Wn,Hn),device=dev)\n",
    "\n",
    "# First, let's make the transformation matrix:\n",
    "y0, x0 = torch.meshgrid([torch.linspace(-1.0+num_convs/W, 1.0-num_convs/W, Wn, device=dev),\n",
    "                               torch.linspace(-1.0+num_convs/H, 1.0-num_convs/H, Hn, device=dev)],indexing='ij')\n",
    "\n",
    "L = torch.zeros((1,3,3,Hn,Wn),device=dev)#torch.tensor([[1-x0,0,0],[0,1-y0,0],[0,0,1]])\n",
    "L[:,0,0,:,:] = 1\n",
    "L[:,1,1,:,:] = 1\n",
    "L[:,2,2,:,:] = 1\n",
    "L[:,0,2,:,:] = -x0+xa\n",
    "L[:,1,2,:,:] = -y0+ya\n",
    "\n",
    "# ---- Testing\n",
    "\n",
    "A = torch.rand(10,1,3,Wn,Hn,device=dev)\n",
    "\n",
    "print(A.shape)\n",
    "print(L.shape)\n",
    "\n",
    "out = torch.einsum('aijbc,ajkbc->aikbc',A,L)\n",
    "\n",
    "print(out.shape)"
   ]
  },
  {
   "cell_type": "code",
   "execution_count": 17,
   "id": "b1a15b80",
   "metadata": {},
   "outputs": [
    {
     "name": "stdout",
     "output_type": "stream",
     "text": [
      "tensor([[ 1.0000,  0.0000, -0.1000],\n",
      "        [ 0.0000,  1.0000, -0.5000],\n",
      "        [ 0.0000,  0.0000,  1.0000]], device='cuda:0', dtype=torch.float64)\n",
      "tensor([-0.5000,  0.8660, -0.4464], device='cuda:0', dtype=torch.float64)\n",
      "tensor([-0.5000,  0.8660, -0.8294], device='cuda:0', dtype=torch.float64)\n"
     ]
    },
    {
     "data": {
      "image/png": "[encoded data removed]",
      "text/plain": [
       "<Figure size 432x288 with 1 Axes>"
      ]
     },
     "metadata": {
      "needs_background": "light"
     },
     "output_type": "display_data"
    },
    {
     "data": {
      "image/png": "[encoded data removed]",
      "text/plain": [
       "<Figure size 432x288 with 1 Axes>"
      ]
     },
     "metadata": {
      "needs_background": "light"
     },
     "output_type": "display_data"
    },
    {
     "data": {
      "image/png": "[encoded data removed]",
      "text/plain": [
       "<Figure size 432x288 with 1 Axes>"
      ]
     },
     "metadata": {
      "needs_background": "light"
     },
     "output_type": "display_data"
    }
   ],
   "source": [
    "# Validate L\n",
    "\n",
    "theta = torch.pi/4\n",
    "\n",
    "cx = -.2\n",
    "cy = .4\n",
    "theta = torch.pi/6\n",
    "a = -np.sin(theta)\n",
    "b = np.cos(theta)\n",
    "c = np.sin(theta)*cx - np.cos(theta)*cy\n",
    "\n",
    "params = torch.tensor((a,b,c),device=dev)\n",
    "\n",
    "# plot the line:\n",
    "\n",
    "x = torch.linspace(-1,1,10,device=dev)\n",
    "y = (-a*x-c)/b\n",
    "\n",
    "plt.figure()\n",
    "plt.plot(x.cpu(),y.cpu(),'-')\n",
    "plt.plot(cx,cy,'ro')\n",
    "plt.plot(0,0,'go')\n",
    "plt.xlim([-1,1])\n",
    "plt.ylim([-1,1])\n",
    "plt.grid()\n",
    "\n",
    "# Suppose that this line is in a patch centered at \n",
    "patch_center = [.1,.5]\n",
    "\n",
    "L_test = torch.zeros((3,3),device=dev).double()#torch.tensor([[1-x0,0,0],[0,1-y0,0],[0,0,1]])\n",
    "L_test[0,0] = 1\n",
    "L_test[1,1] = 1\n",
    "L_test[2,2] = 1\n",
    "L_test[0,2] = -patch_center[0]\n",
    "L_test[1,2] = -patch_center[1]\n",
    "\n",
    "new_line = params.matmul(L_test)\n",
    "\n",
    "# print(a*patch_center[0]+b*patch_center[1]+c)\n",
    "\n",
    "print(L_test)\n",
    "print(params)\n",
    "print(new_line)\n",
    "\n",
    "y2 = (-new_line[0]*x-new_line[2])/new_line[1]\n",
    "\n",
    "plt.figure()\n",
    "# plt.plot(x.cpu(),y.cpu(),'.-')\n",
    "plt.plot(x.cpu(),y2.cpu(),'-')\n",
    "plt.xlim([-1,1])\n",
    "plt.ylim([-1,1])\n",
    "plt.plot(patch_center[0],patch_center[1],'bo')\n",
    "plt.plot(0,0,'go')\n",
    "plt.grid()\n",
    "\n",
    "plt.figure()\n",
    "# plt.plot(x.cpu(),y.cpu(),'.-')\n",
    "plt.plot(x.cpu(),y2.cpu(),'-')\n",
    "plt.xlim([patch_center[0]-1,patch_center[0]+1])\n",
    "plt.ylim([patch_center[1]-1,patch_center[1]+1])\n",
    "plt.plot(patch_center[0],patch_center[1],'bo')\n",
    "plt.grid()"
   ]
  },
  {
   "cell_type": "code",
   "execution_count": 18,
   "id": "7fecbab4",
   "metadata": {},
   "outputs": [
    {
     "data": {
      "text/plain": [
       "[<matplotlib.lines.Line2D at 0x2b3eec015ef0>]"
      ]
     },
     "execution_count": 18,
     "metadata": {},
     "output_type": "execute_result"
    },
    {
     "data": {
      "image/png": "[encoded data removed]",
      "text/plain": [
       "<Figure size 432x288 with 4 Axes>"
      ]
     },
     "metadata": {
      "needs_background": "light"
     },
     "output_type": "display_data"
    }
   ],
   "source": [
    "# Ray Masks\n",
    "\n",
    "# Calculate in parallel\n",
    "\n",
    "cx = -.2\n",
    "cy = .4\n",
    "theta = torch.linspace(0,2*torch.pi,360,device=dev).unsqueeze(1).unsqueeze(2)\n",
    "\n",
    "a = -torch.sin(theta)\n",
    "b = torch.cos(theta)\n",
    "c = torch.sin(theta)*cx - torch.cos(theta)*cy\n",
    "\n",
    "# radius threshold \n",
    "rf = 15 # receptive field size (in the original image)\n",
    "r = rf/2*.8/H # divide the receptive field by 2, multiply by a factor .8 (because we want enough of the line to be included), and then scale by the size of the original (not cropped) image\n",
    "\n",
    "# # Make y0 negative\n",
    "mask1 = (torch.abs(a*x0.unsqueeze(0) + b*y0.unsqueeze(0) + c)<r)\n",
    "mask2 = (b*x0.unsqueeze(0) - a*y0.unsqueeze(0) > b*cx - a*cy)\n",
    "\n",
    "# Create a gaussian mask that is the distance from the line\n",
    "sig = .1\n",
    "mask3 = torch.exp(-(a*x0 + b*y0 + c)**2/(2*sig**2))\n",
    "\n",
    "full_mask = mask1*mask2*mask3\n",
    "\n",
    "plt.figure()\n",
    "plt.subplot(221)\n",
    "plt.imshow(full_mask[6].cpu())\n",
    "plt.plot(cx*Wn/2+Wn/2,cy*Hn/2+Hn/2,'ro')\n",
    "plt.subplot(222)\n",
    "plt.imshow(full_mask[50].cpu())\n",
    "plt.plot(cx*Wn/2+Wn/2,cy*Hn/2+Hn/2,'ro')\n",
    "plt.subplot(223)\n",
    "plt.imshow(full_mask[75].cpu())\n",
    "plt.plot(cx*Wn/2+Wn/2,cy*Hn/2+Hn/2,'ro')\n",
    "plt.subplot(224)\n",
    "plt.imshow(full_mask[150].cpu())\n",
    "plt.plot(cx*Wn/2+Wn/2,cy*Hn/2+Hn/2,'ro')"
   ]
  },
  {
   "cell_type": "markdown",
   "id": "63f3c335",
   "metadata": {},
   "source": [
    "# Part 1: Training line parameter CNN"
   ]
  },
  {
   "cell_type": "code",
   "execution_count": 19,
   "id": "ec5a4979",
   "metadata": {},
   "outputs": [],
   "source": [
    "_,data = next(enumerate(train_loader))\n",
    "inputs, params, _, wedge = data"
   ]
  },
  {
   "cell_type": "code",
   "execution_count": 20,
   "id": "6119219e",
   "metadata": {},
   "outputs": [
    {
     "name": "stdout",
     "output_type": "stream",
     "text": [
      "torch.Size([100, 58, 58, 3]) torch.Size([100, 58, 58])\n"
     ]
    },
    {
     "data": {
      "image/png": "[encoded data removed]",
      "text/plain": [
       "<Figure size 576x576 with 3 Axes>"
      ]
     },
     "metadata": {
      "needs_background": "light"
     },
     "output_type": "display_data"
    }
   ],
   "source": [
    "# Let's start by just training the initial neural network with known GT\n",
    "\n",
    "# Given a set of line parameters, construct the ground truth:\n",
    "\n",
    "def make_ground_truth(params,H,x0,y0):\n",
    "    \n",
    "        theta = params[:,:3].unsqueeze(2).unsqueeze(3)\n",
    "        cx = params[:,3]\n",
    "        cy = params[:,4]\n",
    "        \n",
    "        a = -torch.sin(theta)\n",
    "        b = torch.cos(theta)\n",
    "        c = torch.sin(theta)*cx.unsqueeze(1).unsqueeze(2).unsqueeze(3) - torch.cos(theta)*cy.unsqueeze(1).unsqueeze(2).unsqueeze(3)\n",
    "\n",
    "        # radius threshold \n",
    "        rf = 15 # receptive field size (in the original image)\n",
    "        r = rf/2*.8/H # divide the receptive field by 2, multiply by a factor .8 (because we want enough of the line to be included), and then scale by the size of the original (not cropped) image\n",
    "\n",
    "        mask1 = (torch.abs(a*x0.unsqueeze(0).unsqueeze(1) + b*y0.unsqueeze(0).unsqueeze(1) + c)<r)\n",
    "        mask2 = (b*x0.unsqueeze(0).unsqueeze(1) - a*y0.unsqueeze(0).unsqueeze(1) > b*cx.unsqueeze(1).unsqueeze(2).unsqueeze(3) - a*cy.unsqueeze(1).unsqueeze(2).unsqueeze(3) )\n",
    "\n",
    "        # Create a gaussian mask that is the distance from the line\n",
    "        sig = .1\n",
    "        mask3 = torch.exp(-(a*x0.unsqueeze(0).unsqueeze(1) + b*y0.unsqueeze(0).unsqueeze(1) + c)**2/(2*sig**2))\n",
    "\n",
    "        full_mask = mask1*mask2#*mask3\n",
    "        full_mask = full_mask/torch.max(full_mask.view(params.shape[0],-1,3),1)[0].unsqueeze(2).unsqueeze(3)\n",
    "\n",
    "        line_params = torch.stack((a,b,c),dim=4)\n",
    "\n",
    "        ground_truth = torch.mean(line_params*(full_mask.unsqueeze(4)),1)#(line_params*(full_mask.unsqueeze(4))).sum(1)\n",
    "        \n",
    "#         confidence = mask2*mask3\n",
    "#         confidence = confidence/torch.max(confidence.view(params.shape[0],-1,3),1)[0].unsqueeze(2).unsqueeze(3)\n",
    "#         confidence,_ = torch.max(confidence,1)\n",
    "        confidence,_ = torch.max(mask1*mask2,1)#.float()\n",
    "    \n",
    "        gaussian_mask,_ = torch.max(mask1*mask2*mask3,1)\n",
    "        \n",
    "        return ground_truth,confidence.float(),gaussian_mask\n",
    "    \n",
    "gt,c,gm = make_ground_truth(params,H,x0,y0)\n",
    "\n",
    "print(gt.shape,c.shape)\n",
    "\n",
    "plt.figure(figsize=(8,8))\n",
    "plt.subplot(221)\n",
    "plt.imshow(torch.abs(gt[0].cpu()))\n",
    "plt.title('Line parameters')\n",
    "plt.subplot(222)\n",
    "plt.imshow(c[0].cpu())\n",
    "plt.title('Confidence Mask')\n",
    "plt.subplot(223)\n",
    "plt.imshow(gm[0].cpu())\n",
    "plt.title('Gaussian loss mask')\n",
    "plt.subplots_adjust(wspace=0, hspace=.15)"
   ]
  },
  {
   "cell_type": "code",
   "execution_count": 563,
   "id": "030421ef",
   "metadata": {},
   "outputs": [
    {
     "name": "stdout",
     "output_type": "stream",
     "text": [
      "----------------------------------------------------------------\n",
      "        Layer (type)               Output Shape         Param #\n",
      "================================================================\n",
      "            Conv2d-1           [-1, 64, 62, 62]             640\n",
      "            Conv2d-2          [-1, 128, 60, 60]          73,856\n",
      "            Conv2d-3            [-1, 4, 58, 58]           4,612\n",
      "================================================================\n",
      "Total params: 79,108\n",
      "Trainable params: 79,108\n",
      "Non-trainable params: 0\n",
      "----------------------------------------------------------------\n",
      "Input size (MB): 0.02\n",
      "Forward/backward pass size (MB): 5.50\n",
      "Params size (MB): 0.30\n",
      "Estimated Total Size (MB): 5.81\n",
      "----------------------------------------------------------------\n"
     ]
    }
   ],
   "source": [
    "# Define the first few components of the network\n",
    "\n",
    "# Reduce the conv layers now\n",
    "\n",
    "class lineNet(nn.Module):\n",
    "\n",
    "    def __init__(self):\n",
    "        super().__init__()\n",
    "                \n",
    "        self.conv1 = nn.Conv2d(1, 64, kernel_size=3)\n",
    "        self.conv2 = nn.Conv2d(64, 128, kernel_size=3)\n",
    "        self.conv3 = nn.Conv2d(128, 4, kernel_size=3)\n",
    "    \n",
    "    def forward(self, x):\n",
    "\n",
    "        x = self.conv1(x)\n",
    "        x = F.sigmoid(x)\n",
    "        x = self.conv2(x)\n",
    "        x = F.sigmoid(x)\n",
    "        x = self.conv3(x)\n",
    "        x = F.sigmoid(x)\n",
    "         \n",
    "        # We're defining\n",
    "        # a = - sin(theta)\n",
    "        # b = cos(theta)\n",
    "        # c = -cy*cos(theta)+cx*sin(theta)\n",
    "        # Hence, we want to normalize the vector by 1/sqrt(a^2 + b^2)\n",
    "        norm_factor = (torch.norm(x[:,:2,:,:],p=2,dim=1)).unsqueeze(1)\n",
    "        \n",
    "        \n",
    "        eps=1e-10\n",
    "        \n",
    "        out1 = x[:,:3,:,:]/(norm_factor)#+eps)\n",
    "        out2 = x[:,3,:,:]\n",
    "        \n",
    "#         print('Output shape=',x.shape)\n",
    "        \n",
    "        return out1,out2\n",
    "    \n",
    "       \n",
    "model = lineNet()\n",
    "model = model.to(dev)\n",
    "summary(model, input_size=[(1, 64, 64)])"
   ]
  },
  {
   "cell_type": "code",
   "execution_count": 531,
   "id": "32dccff6",
   "metadata": {},
   "outputs": [],
   "source": [
    "def init_weights(m):\n",
    "    if isinstance(m, nn.Conv2d):\n",
    "        torch.nn.init.xavier_uniform_(m.weight)\n",
    "        m.bias.data.fill_(0.01)"
   ]
  },
  {
   "cell_type": "code",
   "execution_count": 564,
   "id": "9c7c282a",
   "metadata": {},
   "outputs": [
    {
     "name": "stdout",
     "output_type": "stream",
     "text": [
      "Epoch: 1, Avg. Train Loss: 1.3765203433878281,\n",
      "Epoch: 2, Avg. Train Loss: 1.314852743990281,\n",
      "Epoch: 3, Avg. Train Loss: 1.3122812972349278,\n",
      "Epoch: 4, Avg. Train Loss: 1.3115904906216789,\n",
      "Epoch: 5, Avg. Train Loss: 1.311220658526701,\n",
      "Epoch: 6, Avg. Train Loss: 1.311108885793125,\n",
      "Epoch: 7, Avg. Train Loss: 1.3109690511927885,\n",
      "Epoch: 8, Avg. Train Loss: 1.3108654218561508,\n"
     ]
    },
    {
     "ename": "KeyboardInterrupt",
     "evalue": "",
     "output_type": "error",
     "traceback": [
      "\u001b[0;31m---------------------------------------------------------------------------\u001b[0m",
      "\u001b[0;31mKeyboardInterrupt\u001b[0m                         Traceback (most recent call last)",
      "\u001b[0;32m<ipython-input-564-c4d4468148c0>\u001b[0m in \u001b[0;36m<module>\u001b[0;34m\u001b[0m\n\u001b[1;32m     68\u001b[0m \u001b[0;34m\u001b[0m\u001b[0m\n\u001b[1;32m     69\u001b[0m         \u001b[0;31m# to convert loss into a scalar and add it to running_loss, we use .item()\u001b[0m\u001b[0;34m\u001b[0m\u001b[0;34m\u001b[0m\u001b[0;34m\u001b[0m\u001b[0m\n\u001b[0;32m---> 70\u001b[0;31m         \u001b[0mrunning_loss\u001b[0m \u001b[0;34m+=\u001b[0m \u001b[0mloss\u001b[0m\u001b[0;34m.\u001b[0m\u001b[0mitem\u001b[0m\u001b[0;34m(\u001b[0m\u001b[0;34m)\u001b[0m\u001b[0;34m\u001b[0m\u001b[0;34m\u001b[0m\u001b[0m\n\u001b[0m\u001b[1;32m     71\u001b[0m \u001b[0;34m\u001b[0m\u001b[0m\n\u001b[1;32m     72\u001b[0m \u001b[0;34m\u001b[0m\u001b[0m\n",
      "\u001b[0;31mKeyboardInterrupt\u001b[0m: "
     ]
    }
   ],
   "source": [
    "# Now let's train the initial network \n",
    "\n",
    "model = lineNet()\n",
    "model = model.to(dev)\n",
    "# model.apply(init_weights)\n",
    "\n",
    "model.train();\n",
    "\n",
    "optimizer = torch.optim.Adam(model.parameters(),lr=.0001)\n",
    "\n",
    "n_epochs = 150\n",
    "\n",
    "mse_loss = nn.MSELoss()\n",
    "ce_loss = nn.CrossEntropyLoss()\n",
    "\n",
    "for epoch in range(0,50):#n_epochs):  # loop over the dataset multiple times\n",
    "\n",
    "    if epoch == 0:\n",
    "        train_loss_over_time = [] # to track the loss as the network trains\n",
    "        test_loss_over_time = []\n",
    "        \n",
    "    running_loss = 0\n",
    "    num_batches = 0\n",
    "    \n",
    "    for batch_i, data in enumerate(train_loader):\n",
    "        \n",
    "        # get the input images and their corresponding labels\n",
    "        num_batches += 1\n",
    "\n",
    "        inputs, params, _, wedge = data\n",
    "        inputs, wedge, params = inputs.to(dev), wedge.to(dev), params.to(dev)\n",
    "        \n",
    "        # zero the parameter (weight) gradients\n",
    "        optimizer.zero_grad()\n",
    "        \n",
    "        # forward pass to get outputs\n",
    "        output_line_params,output_confidence = model(inputs)\n",
    "\n",
    "        # transform each patch into global coordinate system\n",
    "        output_line_params = torch.einsum('ajbc,ajkbc->akbc',output_line_params,L)\n",
    "        \n",
    "\n",
    "        # make the ground truth\n",
    "        line_params_gt,confidence_gt,gaussian_loss_gt = make_ground_truth(params,H,x0,y0)\n",
    "        \n",
    "        # calculate the loss\n",
    "#         print(output_line_params[:,:,0,50])\n",
    "        \n",
    "        loss = (((output_line_params-line_params_gt.permute(0,3,1,2))*(confidence_gt.unsqueeze(1)))**2).sum()/torch.sum(confidence_gt) # + ce_loss(output_confidence,confidence_gt)\n",
    "        \n",
    "#         if batch_i==0:\n",
    "#             plt.figure()\n",
    "#             plt.imshow(output_line_params[0].cpu().detach().permute(1,2,0))\n",
    "#             plt.title('NN Line Param Output')\n",
    "\n",
    "#             plt.figure()\n",
    "#             plt.imshow((((output_line_params-line_params_gt.permute(0,3,1,2))*(confidence_gt.unsqueeze(1)))**2)[0].permute(1,2,0).cpu().detach())\n",
    "#             plt.title('Loss Visualization')\n",
    "\n",
    "#         sys.quit()\n",
    "        \n",
    "        \n",
    "        # backward pass to calculate the parameter gradients\n",
    "        loss.backward()\n",
    "\n",
    "        # update the parameters\n",
    "        optimizer.step()\n",
    "\n",
    "        # to convert loss into a scalar and add it to running_loss, we use .item()\n",
    "        running_loss += loss.item()\n",
    "      \n",
    "\n",
    "    # Calculate test data loss after each epoch\n",
    "    with torch.no_grad():\n",
    "        test_loss = 0\n",
    "        num_batches_test = 0\n",
    "        for batch_i, data in enumerate(test_loader):\n",
    "            num_batches_test += 1\n",
    "            \n",
    "            inputs, params, _, wedge = data\n",
    "            inputs, wedge, params = inputs.to(dev), wedge.to(dev), params.to(dev)\n",
    "\n",
    "            # zero the parameter (weight) gradients\n",
    "            optimizer.zero_grad()\n",
    "\n",
    "            # forward pass to get outputs\n",
    "            output_line_params,output_confidence = model(inputs)\n",
    "\n",
    "            # transform each patch into global coordinate system\n",
    "            output_line_params = torch.einsum('ajbc,ajkbc->akbc',output_line_params,L)\n",
    "\n",
    "            # make the ground truth\n",
    "            line_params_gt,confidence_gt,gaussian_loss_gt = make_ground_truth(params,H,x0,y0)\n",
    "\n",
    "            # calculate the loss\n",
    "            loss = (((output_line_params-line_params_gt.permute(0,3,1,2))*(confidence_gt.unsqueeze(1)))**2).sum()/torch.sum(confidence_gt) + ce_loss(output_confidence,confidence_gt)\n",
    "\n",
    "            test_loss += loss\n",
    "                    \n",
    "        test_loss_over_time.append(test_loss/num_batches_test)\n",
    "\n",
    "\n",
    "    # Calculate model loss:\n",
    "    avg_loss = running_loss/num_batches\n",
    "    train_loss_over_time.append(avg_loss)\n",
    "    \n",
    "    print('Epoch: {}, Avg. Train Loss: {},'.format(epoch + 1, train_loss_over_time[-1]))\n",
    "\n",
    "\n",
    "#     print('Epoch: {}, Avg. Train Loss: {}, Avg. Test Loss: {}'.format(epoch + 1, train_loss_over_time[-1], test_loss_over_time[-1]))\n",
    "    \n",
    "print('Finished Training')"
   ]
  },
  {
   "cell_type": "markdown",
   "id": "adbec069",
   "metadata": {},
   "source": [
    "# Part 2: Adding a deterministic layer"
   ]
  },
  {
   "cell_type": "code",
   "execution_count": 12,
   "id": "c7e4c0ae",
   "metadata": {},
   "outputs": [],
   "source": [
    "# Final deterministic layer\n",
    "\n",
    "# For each included patch, how far away the angle predicted by the patch away from the true angle of the line, weighted by the mask weights\n",
    "\n",
    "# 1. First start by predicting the angles\n",
    "# 2. Then mask out the angles, subtract from the true values, and add up loss using gaussian weights"
   ]
  },
  {
   "cell_type": "code",
   "execution_count": 13,
   "id": "4b9b6010",
   "metadata": {},
   "outputs": [
    {
     "name": "stdout",
     "output_type": "stream",
     "text": [
      "torch.Size([20000, 5, 1, 1])\n"
     ]
    }
   ],
   "source": [
    "# Loss\n",
    "\n",
    "# For now, let's start with a loss that is how far is the predicted line from the line represented by xc,yc and theta\n",
    "\n",
    "# The output is 360 x 3\n",
    "\n",
    "# Let's write out the optimal parameters\n",
    "\n",
    "optim_params = torch.cat((-torch.sin(theta),torch.cos(theta),-cy*torch.cos(theta)+cx*torch.sin(theta)),axis=1)\n",
    "\n",
    "print(params.shape)\n",
    "\n",
    "# Really, though, we want to minimize the angular distance between the predicted params and the true params\n",
    "\n",
    "# So we can take the atan2 of the output and compare it with the thetas \n",
    "\n",
    "# Let's make sure the math works out\n",
    "\n",
    "real_angles = torch.atan2(-params[:,0],params[:,1])\n",
    "\n",
    "# Math checks out."
   ]
  },
  {
   "cell_type": "code",
   "execution_count": 18,
   "id": "43d9d18f",
   "metadata": {},
   "outputs": [
    {
     "name": "stdout",
     "output_type": "stream",
     "text": [
      "torch.Size([100, 1000, 3])\n",
      "torch.Size([100, 1000, 3])\n",
      "(359,)\n"
     ]
    },
    {
     "data": {
      "text/plain": [
       "[<matplotlib.lines.Line2D at 0x2b44948181d0>]"
      ]
     },
     "execution_count": 18,
     "metadata": {},
     "output_type": "execute_result"
    },
    {
     "data": {
      "image/png": "[encoded data removed]",
      "text/plain": [
       "<Figure size 432x288 with 1 Axes>"
      ]
     },
     "metadata": {
      "needs_background": "light"
     },
     "output_type": "display_data"
    },
    {
     "data": {
      "image/png": "[encoded data removed]",
      "text/plain": [
       "<Figure size 432x288 with 1 Axes>"
      ]
     },
     "metadata": {
      "needs_background": "light"
     },
     "output_type": "display_data"
    }
   ],
   "source": [
    "# std=1\n",
    "# normal_distrib = torch.distributions.Normal(params[:,:3]/(2*torch.pi)*360,std)\n",
    "# samples = normal_distrib.rsample(sample_shape=[100]).squeeze().permute(1,0,2).reshape(params.shape[0],-1)\n",
    "\n",
    "# values = torch.round(samples).long() % 360\n",
    "\n",
    "# hist, bin_edges = np.histogram(values[13,:].cpu(),np.arange(0,360))\n",
    "\n",
    "\n",
    "# plt.figure()\n",
    "# plt.plot(hist)\n",
    "\n",
    "##---\n",
    "\n",
    "std=1\n",
    "normal_distrib = torch.distributions.Normal(0,std)\n",
    "\n",
    "\n",
    "print(torch.rad2deg(params[:,:3]).unsqueeze(1).repeat(1,1000,1).shape)\n",
    "print(normal_distrib.rsample(sample_shape=[1,1000,1]).to(dev).repeat(params.shape[0],1,3).shape)\n",
    "\n",
    "# samples = (torch.rad2deg(params[:,:3]).unsqueeze(1) + normal_distrib.rsample(sample_shape=[1,1000,3]))#.permute(1,0,2).reshape(params.shape[0],-1)\n",
    "\n",
    "gaussian_array = normal_distrib.rsample(sample_shape=[1,1000,1]).to(dev).repeat(params.shape[0],1,3)\n",
    "samples = (torch.rad2deg(params[:,:3]).unsqueeze(1).repeat(1,1000,1) + gaussian_array).reshape(params.shape[0],-1)\n",
    "values = torch.round(samples).long() % 360\n",
    "hist, bin_edges = np.histogram(values[0,:].cpu(),np.arange(0,360))\n",
    "\n",
    "print(hist.shape)\n",
    "\n",
    "plt.figure()\n",
    "plt.plot(hist)\n",
    "\n",
    "hist = torch.nn.functional.one_hot(values, 360).sum(dim=-2)\n",
    "\n",
    "plt.figure()\n",
    "plt.plot(hist[0,:].cpu())"
   ]
  },
  {
   "cell_type": "code",
   "execution_count": 21,
   "id": "449a0d8a",
   "metadata": {},
   "outputs": [
    {
     "data": {
      "text/plain": [
       "<matplotlib.colorbar.Colorbar at 0x2b4494876400>"
      ]
     },
     "execution_count": 21,
     "metadata": {},
     "output_type": "execute_result"
    },
    {
     "data": {
      "image/png": "[encoded data removed]",
      "text/plain": [
       "<Figure size 432x288 with 2 Axes>"
      ]
     },
     "metadata": {
      "needs_background": "light"
     },
     "output_type": "display_data"
    },
    {
     "data": {
      "image/png": "[encoded data removed]",
      "text/plain": [
       "<Figure size 432x288 with 2 Axes>"
      ]
     },
     "metadata": {
      "needs_background": "light"
     },
     "output_type": "display_data"
    }
   ],
   "source": [
    "# Let's start by just training the initial neural network with known GT\n",
    "\n",
    "# First, what is the ground truth loss?\n",
    "# Patches that contain line should have the parameters of their line (with gaussian decreasing intensity the farther you move from the line)\n",
    "# All other patches should not contribute to the loss\n",
    "\n",
    "\n",
    "# Given a set of line parameters, construct the ground truth:\n",
    "# Reminder:\n",
    "# a = -np.sin(theta)\n",
    "# b = np.cos(theta)\n",
    "# c = np.sin(theta)*cx - np.cos(theta)*cy\n",
    "\n",
    "# FOR A SINGLE ANGLE:\n",
    "    \n",
    "# Let's do the sum of three rays:\n",
    "param_test = params[0,:]\n",
    "\n",
    "cx = param_test[3]\n",
    "cy = param_test[4]\n",
    "theta = param_test[:3].unsqueeze(1).unsqueeze(2)\n",
    "\n",
    "a = -torch.sin(theta)\n",
    "b = torch.cos(theta)\n",
    "c = torch.sin(theta)*cx - torch.cos(theta)*cy\n",
    "\n",
    "# radius threshold \n",
    "rf = 15 # receptive field size (in the original image)\n",
    "r = rf/2*.8/H # divide the receptive field by 2, multiply by a factor .8 (because we want enough of the line to be included), and then scale by the size of the original (not cropped) image\n",
    "\n",
    "# # Make y0 negative\n",
    "mask1 = (torch.abs(a*x0.unsqueeze(0) + b*y0.unsqueeze(0) + c)<r)\n",
    "mask2 = (b*x0.unsqueeze(0) - a*y0.unsqueeze(0) > b*cx - a*cy)\n",
    "\n",
    "# Create a gaussian mask that is the distance from the line\n",
    "sig = .1\n",
    "mask3 = torch.exp(-(a*x0 + b*y0 + c)**2/(2*sig**2))\n",
    "\n",
    "full_mask = mask1*mask2*mask3\n",
    "full_mask = full_mask/torch.max(full_mask.view(3,-1),1)[0].unsqueeze(1).unsqueeze(2)\n",
    "\n",
    "all_params = torch.stack((a,b,c),dim=3)\n",
    "\n",
    "# Then create line parameter masks\n",
    "# 3 lines x 58 x 58 x 3 numbers per parameter\n",
    "line_params = torch.zeros((3,Wn,Hn,3),device=dev)\n",
    "line_params[:,:,:,:] = all_params\n",
    "\n",
    "plt.figure()\n",
    "plt.imshow(full_mask[0,:,:].cpu().squeeze())\n",
    "plt.colorbar()\n",
    "\n",
    "ground_truth = line_params*(full_mask.unsqueeze(3))\n",
    "\n",
    "plt.figure()\n",
    "plt.imshow(torch.abs(ground_truth[2,:,:,:].cpu()))\n",
    "plt.colorbar()\n"
   ]
  },
  {
   "cell_type": "code",
   "execution_count": 124,
   "id": "d633d073",
   "metadata": {},
   "outputs": [
    {
     "name": "stderr",
     "output_type": "stream",
     "text": [
      "Clipping input data to the valid range for imshow with RGB data ([0..1] for floats or [0..255] for integers).\n",
      "Clipping input data to the valid range for imshow with RGB data ([0..1] for floats or [0..255] for integers).\n"
     ]
    },
    {
     "data": {
      "text/plain": [
       "<matplotlib.image.AxesImage at 0x2b4557457ba8>"
      ]
     },
     "execution_count": 124,
     "metadata": {},
     "output_type": "execute_result"
    },
    {
     "data": {
      "image/png": "[encoded data removed]",
      "text/plain": [
       "<Figure size 432x288 with 1 Axes>"
      ]
     },
     "metadata": {
      "needs_background": "light"
     },
     "output_type": "display_data"
    },
    {
     "data": {
      "image/png": "[encoded data removed]",
      "text/plain": [
       "<Figure size 432x288 with 1 Axes>"
      ]
     },
     "metadata": {
      "needs_background": "light"
     },
     "output_type": "display_data"
    },
    {
     "data": {
      "image/png": "[encoded data removed]",
      "text/plain": [
       "<Figure size 432x288 with 1 Axes>"
      ]
     },
     "metadata": {
      "needs_background": "light"
     },
     "output_type": "display_data"
    },
    {
     "data": {
      "image/png": "[encoded data removed]",
      "text/plain": [
       "<Figure size 432x288 with 1 Axes>"
      ]
     },
     "metadata": {
      "needs_background": "light"
     },
     "output_type": "display_data"
    }
   ],
   "source": [
    "\n",
    "plt.figure()\n",
    "plt.imshow(output_normalized[0].permute(1,2,0).detach().cpu())\n",
    "\n",
    "plt.figure()\n",
    "plt.imshow(line_params_gt[0].cpu())\n",
    "\n",
    "plt.figure()\n",
    "plt.imshow(output_confidence[0].detach().cpu())\n",
    "\n",
    "plt.figure()\n",
    "plt.imshow(confidence_gt[0].cpu())\n",
    "        "
   ]
  },
  {
   "cell_type": "code",
   "execution_count": null,
   "id": "b5c2d3b5",
   "metadata": {},
   "outputs": [],
   "source": []
  },
  {
   "cell_type": "code",
   "execution_count": 210,
   "id": "972c87ae",
   "metadata": {},
   "outputs": [
    {
     "name": "stdout",
     "output_type": "stream",
     "text": [
      "nan\n"
     ]
    },
    {
     "ename": "AttributeError",
     "evalue": "module 'sys' has no attribute 'quit'",
     "output_type": "error",
     "traceback": [
      "\u001b[0;31m---------------------------------------------------------------------------\u001b[0m",
      "\u001b[0;31mAttributeError\u001b[0m                            Traceback (most recent call last)",
      "\u001b[0;32m<ipython-input-210-67e51ef99478>\u001b[0m in \u001b[0;36m<module>\u001b[0;34m\u001b[0m\n\u001b[1;32m     94\u001b[0m         \u001b[0mprint\u001b[0m\u001b[0;34m(\u001b[0m\u001b[0mrunning_loss\u001b[0m\u001b[0;34m)\u001b[0m\u001b[0;34m\u001b[0m\u001b[0;34m\u001b[0m\u001b[0m\n\u001b[1;32m     95\u001b[0m \u001b[0;34m\u001b[0m\u001b[0m\n\u001b[0;32m---> 96\u001b[0;31m         \u001b[0msys\u001b[0m\u001b[0;34m.\u001b[0m\u001b[0mquit\u001b[0m\u001b[0;34m(\u001b[0m\u001b[0;34m)\u001b[0m\u001b[0;34m\u001b[0m\u001b[0;34m\u001b[0m\u001b[0m\n\u001b[0m\u001b[1;32m     97\u001b[0m \u001b[0;34m\u001b[0m\u001b[0m\n\u001b[1;32m     98\u001b[0m \u001b[0;31m#     # Calculate test data loss after each epoch\u001b[0m\u001b[0;34m\u001b[0m\u001b[0;34m\u001b[0m\u001b[0;34m\u001b[0m\u001b[0m\n",
      "\u001b[0;31mAttributeError\u001b[0m: module 'sys' has no attribute 'quit'"
     ]
    }
   ],
   "source": [
    "# Now let's put it all together\n",
    "\n",
    "model = lineNet()\n",
    "model = model.to(dev)\n",
    "model.train();\n",
    "\n",
    "optimizer = torch.optim.Adam(model.parameters(),lr=0)\n",
    "\n",
    "n_epochs = 150\n",
    "\n",
    "mse_loss = nn.MSELoss()\n",
    "ce_loss = nn.CrossEntropyLoss()\n",
    "\n",
    "\n",
    "for epoch in range(0,n_epochs):  # loop over the dataset multiple times\n",
    "\n",
    "    if epoch == 0:\n",
    "        train_loss_over_time = [] # to track the loss as the network trains\n",
    "        test_loss_over_time = []\n",
    "        \n",
    "    running_loss = 0\n",
    "    num_batches = 0\n",
    "    \n",
    "    for batch_i, data in enumerate(train_loader):\n",
    "        \n",
    "        # get the input images and their corresponding labels\n",
    "        num_batches += 1\n",
    "\n",
    "        inputs, params, _, wedge = data\n",
    "        \n",
    "        inputs, wedge, params = inputs.to(dev), wedge.to(dev), params.to(dev)\n",
    "        \n",
    "        # zero the parameter (weight) gradients\n",
    "        optimizer.zero_grad()\n",
    "        \n",
    "        # forward pass to get outputs\n",
    "        output = model(inputs).unsqueeze(1)\n",
    "\n",
    "        # transform each patch into global coordinate system\n",
    "        output = output.matmul(L).sum(1).unsqueeze(1)\n",
    "\n",
    "        # compute the predicted angles from the output\n",
    "        norm_factor = torch.norm(output[:,:,:2,:,:],p=2,dim=2)\n",
    "        output_norm = output/norm_factor.unsqueeze(1).repeat(1,1,3,1,1)\n",
    "        \n",
    "        # loss is angular loss + difference from center to the line\n",
    "        pred_angles = torch.atan2(-output_norm[:,:,0,:,:],output_norm[:,:,1,:,:])\n",
    "        \n",
    "        # oracle tells us the center cx,cy\n",
    "        cx = params[:,3]\n",
    "        cy = params[:,4]\n",
    "\n",
    "        a = -torch.sin(theta).unsqueeze(0).repeat(inputs.shape[0],1,1,1)\n",
    "        b = torch.cos(theta).unsqueeze(0).repeat(inputs.shape[0],1,1,1)\n",
    "        c = (torch.sin(theta)*cx - torch.cos(theta)*cy).permute(2,0,1).unsqueeze(3)\n",
    "        \n",
    "        mask1 = (torch.abs(a*x0.unsqueeze(0) + b*y0.unsqueeze(0) + c)<r)\n",
    "        mask2 = (b*x0.unsqueeze(0) - a*y0.unsqueeze(0) > b*cx.unsqueeze(1).unsqueeze(2).unsqueeze(3) - a*cy.unsqueeze(1).unsqueeze(2).unsqueeze(3))\n",
    "        mask3 = torch.exp(-(a*x0.unsqueeze(0) + b*y0.unsqueeze(0) + c)**2/(2*sig**2))\n",
    "\n",
    "        line_mask = (mask1*mask2*mask3)\n",
    "        \n",
    "        angle_loss = (pred_angles - theta.squeeze().unsqueeze(0).repeat(pred_angles.shape[0],1).unsqueeze(2).unsqueeze(3))**2        \n",
    "        angle_loss = (angle_loss*line_mask*norm_factor).sum((2,3))\n",
    "\n",
    "        # calculate the junction loss\n",
    "        junc_params = params[:,3:].unsqueeze(1).unsqueeze(3).unsqueeze(4)\n",
    "        \n",
    "        junc_loss = torch.abs(output_norm[:,:,0,:,:] * junc_params[:,:,0,:,:] + output_norm[:,:,1,:,:] * junc_params[:,:,1,:,:] + output_norm[:,:,2,:,:])\n",
    "        junc_loss = (junc_loss*line_mask*norm_factor).sum((2,3))\n",
    "        \n",
    "        alpha = .5\n",
    "        total_loss = angle_loss#junc_loss#angle_loss#alpha*angle_loss + (1-alpha)*junc_loss\n",
    "        \n",
    "        # Find the weight array for the cross entropy loss:\n",
    "        gaussian_array = normal_distrib.rsample(sample_shape=[1,1000,1]).to(dev).repeat(params.shape[0],1,3)\n",
    "        samples = (torch.rad2deg(params[:,:3]).unsqueeze(1).repeat(1,1000,1) + gaussian_array).reshape(params.shape[0],-1)\n",
    "        values = torch.round(samples).long() % 360        \n",
    "        hist = torch.nn.functional.one_hot(values, 360).sum(dim=-2)        \n",
    "        hist = hist/torch.sum(hist,1).unsqueeze(1)\n",
    "\n",
    "        loss = ce_loss(total_loss,hist)\n",
    "\n",
    "        # backward pass to calculate the parameter gradients\n",
    "        loss.backward()\n",
    "\n",
    "        # update the parameters\n",
    "        optimizer.step()\n",
    "\n",
    "        # to convert loss into a scalar and add it to running_loss, we use .item()\n",
    "        running_loss += loss.item()\n",
    "      \n",
    "        print(running_loss)\n",
    "        \n",
    "        sys.quit()\n",
    "\n",
    "#     # Calculate test data loss after each epoch\n",
    "#     with torch.no_grad():\n",
    "#         test_loss = 0\n",
    "#         num_batches_test = 0\n",
    "#         for batch_i, data in enumerate(test_loader):\n",
    "#             num_batches_test += 1\n",
    "            \n",
    "#             inputs_test, params_test, _, wedges_test = data\n",
    "#             inputs_test, wedges_test, params_test = inputs_test.to(dev), wedges_test.to(dev), params_test.to(dev)\n",
    "            \n",
    "#             angle_params_test = torch.cat((torch.cos(params_test[:,:3]),torch.sin(params_test[:,:3])),axis=1)\n",
    "#             output_test = model(inputs_test)\n",
    "            \n",
    "#             test_loss += mse_loss(output_test[:,6:],params_test[:,3:]) + .1*mse_loss(output_test[:,:6],angle_params_test) \n",
    "\n",
    "\n",
    "                    \n",
    "#         test_loss_over_time.append(test_loss/num_batches_test)\n",
    "\n",
    "    # Calculate model loss:\n",
    "    avg_loss = running_loss/num_batches\n",
    "    train_loss_over_time.append(avg_loss)\n",
    "    \n",
    "    print('Epoch: {}, Avg. Train Loss: {},'.format(epoch + 1, train_loss_over_time[-1]))\n",
    "\n",
    "\n",
    "#     print('Epoch: {}, Avg. Train Loss: {}, Avg. Test Loss: {}'.format(epoch + 1, train_loss_over_time[-1], test_loss_over_time[-1]))\n",
    "    \n",
    "print('Finished Training')"
   ]
  },
  {
   "cell_type": "code",
   "execution_count": 225,
   "id": "f71a53e1",
   "metadata": {},
   "outputs": [
    {
     "name": "stdout",
     "output_type": "stream",
     "text": [
      "torch.Size([100, 1, 58, 58])\n",
      "torch.Size([100, 360, 58, 58])\n",
      "tensor([[[17.9500, 17.6499, 17.3498,  ...,  2.9264,  2.8334,  2.7708],\n",
      "         [17.9638, 17.6635, 17.3632,  ...,  2.9303,  2.8373,  2.7747],\n",
      "         [17.9765, 17.6759, 17.3755,  ...,  2.9348,  2.8419,  2.7793],\n",
      "         ...,\n",
      "         [ 0.0000,  0.0000,  0.0000,  ...,  0.0000,  0.0000,  0.0000],\n",
      "         [ 0.0000,  0.0000,  0.0000,  ...,  0.0000,  0.0000,  0.0000],\n",
      "         [ 0.0000,  0.0000,  0.0000,  ...,  0.0000,  0.0000,  0.0000]]],\n",
      "       device='cuda:0', grad_fn=<SliceBackward0>)\n"
     ]
    },
    {
     "data": {
      "text/plain": [
       "<matplotlib.image.AxesImage at 0x2b23ffacb5f8>"
      ]
     },
     "execution_count": 225,
     "metadata": {},
     "output_type": "execute_result"
    },
    {
     "data": {
      "image/png": "[encoded data removed]",
      "text/plain": [
       "<Figure size 432x288 with 1 Axes>"
      ]
     },
     "metadata": {
      "needs_background": "light"
     },
     "output_type": "display_data"
    },
    {
     "data": {
      "image/png": "[encoded data removed]",
      "text/plain": [
       "<Figure size 432x288 with 1 Axes>"
      ]
     },
     "metadata": {
      "needs_background": "light"
     },
     "output_type": "display_data"
    }
   ],
   "source": [
    "print(norm_factor.shape)\n",
    "print(line_mask.shape)\n",
    "print(norm_factor[0,:,:,:])\n",
    "\n",
    "\n",
    "plt.figure()\n",
    "plt.imshow(line_mask[4,0,:,:].cpu()*norm_factor[4,:,:,:].detach().cpu().squeeze())\n",
    "\n",
    "plt.figure()\n",
    "plt.imshow(line_mask[20,90,:,:].cpu()*norm_factor[20,:,:,:].detach().cpu().squeeze())"
   ]
  },
  {
   "cell_type": "code",
   "execution_count": null,
   "id": "576165ad",
   "metadata": {},
   "outputs": [],
   "source": [
    "# Final fully connected layer\n",
    "\n",
    "# One thing to consider is how to model this as a deterministic layer\n",
    "# For now, let's just use a full connected network\n",
    "\n",
    "# Input size:\n",
    "# We have 360 masks which we use to mask 3 x 64 x 64 tensors (or 64 x 64 x 3 but we can switch it up)\n",
    "# 360 x 3 x 64 x 64 --> 360 x 3 where we want to learn the true line parameters\n",
    "# Should we let a talk with b and c? \n",
    "\n",
    "# class linearNet(nn.Module):\n",
    "\n",
    "#     def __init__(self):\n",
    "#         super().__init__()\n",
    "#         self.fc1 = nn.Linear(4096, 1)\n",
    "        \n",
    "    \n",
    "#     def forward(self, x):\n",
    "\n",
    "# #         print('Input shape=', x.shape)\n",
    "        \n",
    "#         # First, reshape the input 360 x 3 x 64 x 64 tensor so that the images are \"flattened\"\n",
    "#         x = x.view(-1,360, 3, 4096)\n",
    "#         # Then pass through a fully connected layer that takes in the \"images\" and outputs the a,b,or c parameter\n",
    "#         x = self.fc1(x)\n",
    "#         x = F.relu(x)\n",
    "        \n",
    "#         # We need to normalize the vector by 1/sqrt(a^2 + b^2)\n",
    "#         x = (x/(torch.norm(x[:,:,:2,:],p=2,dim=2)).unsqueeze(2).repeat(1,1,3,1))#.flatten(1)\n",
    "        \n",
    "# #         print('Output shape=', x.shape)\n",
    "\n",
    "#         return x\n",
    "    \n",
    "# model2 = linearNet()\n",
    "# model2 = model2.to(dev)\n",
    "# summary(model2, input_size=[(360, 3, 64, 64)])  \n",
    "\n"
   ]
  },
  {
   "cell_type": "code",
   "execution_count": 197,
   "id": "b6990ffc",
   "metadata": {},
   "outputs": [],
   "source": [
    "# img = boundaries\n",
    "\n",
    "# C, H, W = img.shape\n",
    "# H_patches = (H - opts.patch_size) // opts.stride + 1\n",
    "# W_patches = (W - opts.patch_size) // opts.stride + 1\n",
    "\n",
    "# # Split image into overlapping patches, creating a tensor of shape [N, C, R, R, H', W']\n",
    "# t_img = img.clone().unsqueeze(0)   # input image, shape [1, C, H, W]\n",
    "\n",
    "# img_patches = nn.Unfold(opts.patch_size, stride=opts.stride)(t_img).view(1, C, opts.patch_size, opts.patch_size,\n",
    "#                                                                      H_patches, W_patches)\n",
    "\n",
    "# print(img_patches.shape)\n",
    "\n",
    "# plt.figure()\n",
    "# plt.imshow(img_patches[:,:,:,:,25,25].squeeze())"
   ]
  },
  {
   "cell_type": "code",
   "execution_count": 19,
   "id": "53400c00",
   "metadata": {},
   "outputs": [],
   "source": [
    "\n",
    "\n",
    "# # Do one and then make in parallel\n",
    "\n",
    "# cx = -.2\n",
    "# cy = .4\n",
    "# theta = torch.pi/6\n",
    "\n",
    "# # radius threshold \n",
    "# rf = 15 # receptive field size (in the original image)\n",
    "# r = rf/2/H # divide the receptive field by 2 and then scale by the size of the original (not cropped) image\n",
    "\n",
    "# a = -np.sin(theta)\n",
    "# b = np.cos(theta)\n",
    "# c = np.sin(theta)*cx - np.cos(theta)*cy\n",
    "\n",
    "# # Make y0 negative\n",
    "# mask1 = (torch.abs(a*x0 + b*y0 + c)<r).int()\n",
    "# mask2 = (b*x0 - a*y0 > b*cx - a*cy).int()\n",
    "\n",
    "# # Create a gaussian mask that is the distance from the line\n",
    "# sig = .1\n",
    "# mask3 =  torch.exp(-(a*x0 + b*y0 + c)**2/(2*sig**2))#1/(2*torch.pi*sig**2)*torch.exp(-(a*x0 + b*y0 + c)**2/(2*sig**2))\n",
    "\n",
    "# full_mask = mask1*mask2*mask3 #mask1*mask2\n",
    "# full_mask = full_mask/torch.max(full_mask)\n",
    "\n",
    "# plt.figure()\n",
    "# plt.imshow(full_mask.cpu())\n",
    "# plt.plot(cx*Wn/2+Wn/2,cy*Hn/2+Hn/2,'ro')\n",
    "# plt.colorbar()\n",
    "\n",
    "# # plt.figure()\n",
    "# # plt.imshow(mask4.cpu())\n",
    "# # plt.plot(cx*Wn/2+Wn/2,cy*Hn/2+Hn/2,'ro')\n",
    "# # plt.colorbar()\n",
    "\n",
    "# # plt.figure()\n",
    "# # plt.imshow((mask3+mask4).cpu())\n",
    "# # plt.plot(cx*Wn/2+Wn/2,cy*Hn/2+Hn/2,'ro')\n",
    "# # plt.colorbar()\n",
    "\n",
    "# # Let's give more wieght to nearby pixels"
   ]
  },
  {
   "cell_type": "code",
   "execution_count": 23,
   "id": "57c18a50",
   "metadata": {},
   "outputs": [],
   "source": [
    "# # Reminder:\n",
    "# # a = -np.sin(theta)\n",
    "# # b = np.cos(theta)\n",
    "# # c = np.sin(theta)*cx - np.cos(theta)*cy\n",
    "\n",
    "# # Let's do the sum of three rays:\n",
    "# param_test = params\n",
    "\n",
    "# theta = param_test[:,:3].unsqueeze(2).unsqueeze(3)\n",
    "# cx = param_test[:,3]\n",
    "# cy = param_test[:,4]\n",
    "        \n",
    "# a = -torch.sin(theta)\n",
    "# b = torch.cos(theta)\n",
    "# c = torch.sin(theta)*cx.unsqueeze(1).unsqueeze(2).unsqueeze(3) - torch.cos(theta)*cy.unsqueeze(1).unsqueeze(2).unsqueeze(3)\n",
    "\n",
    "# # radius threshold \n",
    "# rf = 15 # receptive field size (in the original image)\n",
    "# r = rf/2*.8/H # divide the receptive field by 2, multiply by a factor .8 (because we want enough of the line to be included), and then scale by the size of the original (not cropped) image\n",
    "\n",
    "# mask1 = (torch.abs(a*x0.unsqueeze(0).unsqueeze(1) + b*y0.unsqueeze(0).unsqueeze(1) + c)<r)\n",
    "# mask2 = (b*x0.unsqueeze(0).unsqueeze(1) - a*y0.unsqueeze(0).unsqueeze(1) > b*cx.unsqueeze(1).unsqueeze(2).unsqueeze(3) - a*cy.unsqueeze(1).unsqueeze(2).unsqueeze(3) )\n",
    "\n",
    "# # Create a gaussian mask that is the distance from the line\n",
    "# sig = .1\n",
    "# mask3 = torch.exp(-(a*x0.unsqueeze(0).unsqueeze(1) + b*y0.unsqueeze(0).unsqueeze(1) + c)**2/(2*sig**2))\n",
    "\n",
    "# full_mask = mask1*mask2*mask3\n",
    "# full_mask = full_mask/torch.max(full_mask.view(param_test.shape[0],-1,3),1)[0].unsqueeze(2).unsqueeze(3)\n",
    "\n",
    "# line_params = torch.stack((a,b,c),dim=4)\n",
    "\n",
    "# # print(all_params.shape)\n",
    "\n",
    "# # # Then create line parameter masks\n",
    "# # # 3 lines x 58 x 58 x 3 numbers per parameter\n",
    "# # line_params = torch.zeros((param_test.shape[0],3,Wn,Hn,3),device=dev)\n",
    "# # line_params[:,:,:,:] = all_params\n",
    "\n",
    "# plt.figure()\n",
    "# plt.imshow(full_mask[0,:,:,:].cpu().squeeze().permute(1,2,0))\n",
    "# plt.colorbar()\n",
    "\n",
    "# ground_truth = (line_params*(full_mask.unsqueeze(4))).sum(1)\n",
    "\n",
    "# # batch size x Wn x Hn x line parameters a,b,c\n",
    "\n",
    "# plt.figure()\n",
    "# plt.imshow(torch.abs(ground_truth[0,:,:].cpu()))\n",
    "# plt.colorbar()"
   ]
  }
 ],
 "metadata": {
  "kernelspec": {
   "display_name": "Python 3",
   "language": "python",
   "name": "python3"
  },
  "language_info": {
   "codemirror_mode": {
    "name": "ipython",
    "version": 3
   },
   "file_extension": ".py",
   "mimetype": "text/x-python",
   "name": "python",
   "nbconvert_exporter": "python",
   "pygments_lexer": "ipython3",
   "version": "3.6.13"
  }
 },
 "nbformat": 4,
 "nbformat_minor": 5
}
