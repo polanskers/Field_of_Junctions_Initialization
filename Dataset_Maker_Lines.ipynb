{
 "cells": [
  {
   "cell_type": "markdown",
   "metadata": {},
   "source": [
    "# Dataset_Maker_Lines\n",
    "\n",
    "### Description:\n",
    "\n",
    "Script to create dataset of lines.\n",
    "\n",
    "Also includes option to add junctions and uniform regions for training."
   ]
  },
  {
   "cell_type": "code",
   "execution_count": 1,
   "metadata": {},
   "outputs": [],
   "source": [
    "import numpy as np\n",
    "import matplotlib.pyplot as plt\n",
    "import torch\n",
    "from types import SimpleNamespace\n",
    "import sys\n",
    "sys.path.append('..')\n",
    "from field_of_junctions import FieldOfJunctions\n",
    "import os\n",
    "import pickle, os\n",
    "from PIL import Image\n",
    "import nbimporter\n",
    "\n",
    "# dev = torch.device('cuda' if torch.cuda.is_available() else 'cpu')\n",
    "dev = 'cpu'"
   ]
  },
  {
   "cell_type": "code",
   "execution_count": 2,
   "metadata": {},
   "outputs": [],
   "source": [
    "def make_random_line_set(num_samples,R,dev,zero_center,delta=.25,eta=0.005):\n",
    "\n",
    "    y, x = torch.meshgrid([torch.linspace(-1.0, 1.0, R, device=dev),\n",
    "                               torch.linspace(-1.0, 1.0, R, device=dev)],indexing='ij')\n",
    "\n",
    "    # Randomly generate angle, center is automatically (0,0) — but can eventually be modified\n",
    "    \n",
    "    if zero_center:\n",
    "        jcenter = torch.zeros(num_samples,2).to(dev)\n",
    "    else: \n",
    "        jcenter = (torch.rand(num_samples,2)*.8-.4).to(dev)\n",
    "        # within [-.4,.4] 40% of the center\n",
    "#         jcenter = (torch.rand(num_samples,2)*1.5-.75).to(dev)\n",
    "        \n",
    "    jangle = 2*np.pi*torch.rand(num_samples,1).to(dev)\n",
    "    \n",
    "    # Concatenate to form full set of parameters [output 4]\n",
    "    params = torch.cat([jangle,jcenter],dim=1).unsqueeze(2).unsqueeze(3)\n",
    "\n",
    "    # Define the three parameters\n",
    "    angle = params[:, 0, :, :]   # shape [N, 1, 1, H', W']\n",
    "    x0 = params[:, 1, :, :]   # shape [N, 1, 1, H', W']\n",
    "    y0 = params[:, 2, :, :]   # shape [N, 1, 1, H', W']\n",
    "\n",
    "    # Convert the angle into a and b\n",
    "    a = -torch.sin(angle)\n",
    "    b = torch.cos(angle)\n",
    "    c = -y0*torch.cos(angle)+x0*torch.sin(angle)\n",
    "\n",
    "    # Create distance functions and then stack to create dists [output 1]\n",
    "    dist1 = a*x + b*y + c\n",
    "    dist2 = -(a*x + b*y + c)\n",
    "    dists = torch.stack([dist1, dist2], dim=1)\n",
    "    \n",
    "    # Apply smooth Heaviside function to distance functions\n",
    "    hdists = 0.5 * (1.0 + (2.0 / np.pi) * torch.atan(dists / eta))\n",
    "    \n",
    "    # Convert Heaviside functions into wedge indicator functions [output 2]\n",
    "    wedges = torch.stack([1.0 - hdists[:, 0, :, :],\n",
    "                              hdists[:, 0, :, :] * (1.0 - hdists[:, 1, :, :]),\n",
    "                              hdists[:, 0, :, :] *        hdists[:, 1, :, :]], dim=1)\n",
    "    \n",
    "    # Convert the heavyside distance functions into a boundary map\n",
    "    d1 = hdists[:, 0, :, :]\n",
    "    d2 = hdists[:, 1, :, :]\n",
    "    \n",
    "    minabsdist = torch.where(d1 < 0.0, -d1, torch.where(d2 < 0.0, torch.min(d1, -d2), torch.min(d1, d2)))\n",
    "\n",
    "    boundaries = 1.0 / (1.0 + (minabsdist / delta) ** 2)\n",
    "\n",
    "    return dists,wedges,boundaries,params\n",
    "\n",
    "def make_grey_transform_lines(num_images,wedges,dev,opt=0):\n",
    "    \n",
    "    if opt == 0:\n",
    "        return torch.tensor([.5,1],device=dev).unsqueeze(0).repeat(num_images,1).unsqueeze(2).unsqueeze(3)\n",
    "\n",
    "    if opt == 1:  \n",
    "\n",
    "        grey_transform = torch.zeros((wedges.shape[0],2,1,1),device=dev)\n",
    "\n",
    "        num_grey_schemes = 0\n",
    "        while num_grey_schemes<wedges.shape[0]:\n",
    "            \n",
    "            sample = torch.rand(2).sort()[0]\n",
    "\n",
    "            if torch.min(torch.diff(sample))<.2:\n",
    "                continue\n",
    "\n",
    "            grey_transform[num_grey_schemes,:,:,:] = sample.unsqueeze(1).unsqueeze(1)\n",
    "\n",
    "            num_grey_schemes += 1\n",
    "\n",
    "        return grey_transform"
   ]
  },
  {
   "cell_type": "code",
   "execution_count": 4,
   "metadata": {},
   "outputs": [
    {
     "name": "stdout",
     "output_type": "stream",
     "text": [
      "torch.Size([100, 3, 12, 12])\n"
     ]
    },
    {
     "data": {
      "image/png": "[encoded data removed]",
      "text/plain": [
       "<Figure size 1080x1080 with 3 Axes>"
      ]
     },
     "metadata": {
      "needs_background": "light"
     },
     "output_type": "display_data"
    }
   ],
   "source": [
    "num_samples = 100\n",
    "R = 12\n",
    "    \n",
    "dists,wedges,boundaries,params = make_random_line_set(num_samples,R,dev,1,delta=.25)#,eta=0.005)\n",
    "\n",
    "grey_transform = make_grey_transform_lines(num_samples,wedges,dev,opt=0)\n",
    "\n",
    "print(wedges.shape)\n",
    "\n",
    "wedges_grey = (wedges[:,:2,:,:]*grey_transform).sum(1).squeeze(1)\n",
    "\n",
    "\n",
    "img_show = 0\n",
    "plt.figure(figsize=[15, 15])\n",
    "plt.subplot(131)\n",
    "plt.imshow(wedges[img_show,:,:].squeeze().permute(1,2,0).cpu())\n",
    "plt.title('RGB Image')\n",
    "plt.axis('off');\n",
    "plt.subplot(132)\n",
    "plt.imshow(wedges_grey[img_show,:,:].squeeze().cpu(),cmap='gray', vmin=0, vmax=1)\n",
    "plt.title('Grayscale Image')\n",
    "plt.axis('off');\n",
    "plt.subplot(133)\n",
    "plt.imshow(boundaries[img_show,:,:].squeeze().cpu(),cmap='gray', vmin=0, vmax=1)\n",
    "plt.title('Boundaries')\n",
    "plt.axis('off');"
   ]
  },
  {
   "cell_type": "markdown",
   "metadata": {},
   "source": [
    "### Add noise"
   ]
  },
  {
   "cell_type": "code",
   "execution_count": 5,
   "metadata": {},
   "outputs": [
    {
     "data": {
      "image/png": "[encoded data removed]",
      "text/plain": [
       "<Figure size 720x720 with 2 Axes>"
      ]
     },
     "metadata": {
      "needs_background": "light"
     },
     "output_type": "display_data"
    }
   ],
   "source": [
    "# Red square on black background\n",
    "# Add noise\n",
    "# Red square on black background\n",
    "clean_img = wedges_grey[img_show,:,:].cpu().squeeze()\n",
    "\n",
    "# Add noise\n",
    "img = clean_img + .2*np.random.randn(*clean_img.shape)\n",
    "mn, mx = img.min(), img.max()\n",
    "\n",
    "# Adjust contrast (equally to both images)\n",
    "img = (img - mn) / (mx - mn)\n",
    "clean_img = (clean_img - mn) / (mx - mn)\n",
    "\n",
    "plt.figure(figsize=[10, 10])\n",
    "plt.subplot(121)\n",
    "plt.imshow(clean_img,cmap='gray')\n",
    "plt.title('Clean input image')\n",
    "plt.axis('off');\n",
    "plt.subplot(122)\n",
    "plt.imshow(img,cmap='gray')\n",
    "plt.title('Noisy input image')\n",
    "plt.axis('off');"
   ]
  },
  {
   "cell_type": "markdown",
   "metadata": {},
   "source": [
    "# Example Use Cases"
   ]
  },
  {
   "cell_type": "code",
   "execution_count": 6,
   "metadata": {},
   "outputs": [
    {
     "data": {
      "text/plain": [
       "<matplotlib.image.AxesImage at 0x2afda1f80940>"
      ]
     },
     "execution_count": 6,
     "metadata": {},
     "output_type": "execute_result"
    },
    {
     "data": {
      "image/png": "[encoded data removed]",
      "text/plain": [
       "<Figure size 432x288 with 1 Axes>"
      ]
     },
     "metadata": {
      "needs_background": "light"
     },
     "output_type": "display_data"
    }
   ],
   "source": [
    "# Create a basic line dataset with\n",
    "\n",
    "# 100 images\n",
    "# colors = [.5,1]\n",
    "# Centered lines\n",
    "\n",
    "# A pickle file containing:\n",
    "# wedges\n",
    "# wedges grey\n",
    "# params\n",
    "# boundaries\n",
    "\n",
    "num_samples = 100\n",
    "R = 32\n",
    "\n",
    "dists,wedges,boundaries,params = make_random_line_set(num_samples,R,dev,1)\n",
    "grey_transform = make_grey_transform_lines(num_samples,wedges,dev)\n",
    "wedges_grey = (wedges[:,:2,:,:]*grey_transform).sum(1).squeeze(1)\n",
    "\n",
    "    \n",
    "line_data = {'wedges':wedges,\n",
    "                 'wedges_grey':wedges_grey,\n",
    "                 'params': params,\n",
    "                 'boundaries':boundaries}\n",
    "\n",
    "data_folder = 'foj_data/grayscale_lines/'\n",
    "\n",
    "# if folder doesn't exist, make it\n",
    "if not os.path.exists(data_folder):\n",
    "    os.makedirs(data_folder)\n",
    "\n",
    "# with open(data_folder + 'line_data_32_100_grey_bicolor_centered.pkl', 'wb') as f:\n",
    "#     pickle.dump(line_data, f)\n",
    "\n",
    "plt.figure()\n",
    "plt.imshow(wedges_grey[0].squeeze().cpu(),cmap='gray',vmin=0,vmax=1)"
   ]
  },
  {
   "cell_type": "code",
   "execution_count": 7,
   "metadata": {},
   "outputs": [],
   "source": [
    "# Create a basic line dataset with\n",
    "\n",
    "# 10,000 images\n",
    "# colors = [.5,1]\n",
    "# Noise added\n",
    "# Centered\n",
    "\n",
    "# A pickle file containing:\n",
    "# wedges\n",
    "# wedges grey\n",
    "# params\n",
    "# boundaries\n",
    "\n",
    "num_samples = 10000\n",
    "R = 32\n",
    "add_noise = 1\n",
    "centered = 1\n",
    "\n",
    "\n",
    "dists,wedges,boundaries,params = make_random_line_set(num_samples,R,'cpu',centered)\n",
    "grey_transform = make_grey_transform_lines(num_samples,wedges,'cpu',0)\n",
    "\n",
    "wedges_grey = (wedges[:,:2,:,:]*grey_transform).sum(1).squeeze(1)\n",
    "\n",
    "if add_noise:\n",
    "    wedges_grey = wedges_grey + .2*torch.rand(*wedges_grey.shape)#,device=dev)\n",
    "    mn, mx = wedges_grey.min(), wedges_grey.max()\n",
    "\n",
    "    # Adjust contrast (equally to both images)\n",
    "    wedges_grey = (wedges_grey - mn) / (mx - mn)\n",
    "\n",
    "    \n",
    "line_data = {'wedges':wedges,\n",
    "                 'wedges_grey':wedges_grey,\n",
    "                 'params': params,\n",
    "                 'boundaries':boundaries}\n",
    "\n",
    "data_folder = 'Data/grayscale_lines/'\n",
    "\n",
    "# # if folder doesn't exist, make it\n",
    "# if not os.path.exists(data_folder):\n",
    "#     os.makedirs(data_folder)\n",
    "\n",
    "# with open(data_folder + 'line_data_32_10000_grey_bicolor_noise_.2_centered.pkl', 'wb') as f:\n",
    "#     pickle.dump(line_data, f)\n",
    "\n"
   ]
  },
  {
   "cell_type": "code",
   "execution_count": 9,
   "metadata": {},
   "outputs": [],
   "source": [
    "# Create a basic line dataset with\n",
    "\n",
    "# R = 16,8\n",
    "# 10,000 images\n",
    "# colors = [.5,1]\n",
    "# Noise added — RANDOM AMOUNTS\n",
    "# NOT centered\n",
    "\n",
    "# A pickle file containing:\n",
    "# wedges\n",
    "# wedges grey\n",
    "# params\n",
    "# boundaries\n",
    "\n",
    "num_samples = 100\n",
    "R = 8\n",
    "add_noise = 1\n",
    "centered = 0\n",
    "\n",
    "\n",
    "dists,wedges,boundaries,params = make_random_line_set(num_samples,R,'cpu',centered)\n",
    "\n",
    "grey_transform = make_grey_transform_lines(num_samples,wedges,'cpu',0)\n",
    "\n",
    "wedges_grey = (wedges[:,:2,:,:]*grey_transform).sum(1).squeeze(1)\n",
    "\n",
    "if add_noise:\n",
    "    wedges_grey = wedges_grey + .8*torch.rand(num_samples).unsqueeze(1).unsqueeze(1)*torch.rand(*wedges_grey.shape)#,device=dev)\n",
    "    mn, mx = wedges_grey.min(), wedges_grey.max()\n",
    "\n",
    "    # Adjust contrast (equally to both images)\n",
    "    wedges_grey = (wedges_grey - mn) / (mx - mn)\n",
    "\n",
    "    \n",
    "line_data = {'wedges':wedges,\n",
    "                 'wedges_grey':wedges_grey,\n",
    "                 'params': params,\n",
    "                 'boundaries':boundaries}\n",
    "\n",
    "data_folder = 'Data/grayscale_lines/'\n",
    "\n",
    "# if folder doesn't exist, make it\n",
    "if not os.path.exists(data_folder):\n",
    "    os.makedirs(data_folder)\n",
    "\n",
    "# with open(data_folder + 'line_data_8_50000_grey_bicolor_noise_random_uncentered.pkl', 'wb') as f:\n",
    "#     pickle.dump(line_data, f)\n"
   ]
  }
 ],
 "metadata": {
  "kernelspec": {
   "display_name": "Python 3",
   "language": "python",
   "name": "python3"
  },
  "language_info": {
   "codemirror_mode": {
    "name": "ipython",
    "version": 3
   },
   "file_extension": ".py",
   "mimetype": "text/x-python",
   "name": "python",
   "nbconvert_exporter": "python",
   "pygments_lexer": "ipython3",
   "version": "3.6.13"
  }
 },
 "nbformat": 4,
 "nbformat_minor": 2
}
